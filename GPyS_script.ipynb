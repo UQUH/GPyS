{
 "cells": [
  {
   "cell_type": "markdown",
   "source": [
    "### A single script utilizing the Preprocessor, LOOCV_error hyperparameter training, and Prediction methods of the GPyS\n",
    "#### Note that each of the LOOCV_error and prediction methods has their explicit script which have been directly called in this notebook\n",
    "\n",
    "#### Last modified: July 17th, 2023."
   ],
   "metadata": {
    "collapsed": false
   }
  },
  {
   "cell_type": "code",
   "execution_count": 1,
   "metadata": {
    "collapsed": true
   },
   "outputs": [],
   "source": [
    "from GPyS_preprocessor import Preprocessor\n",
    "from GPyS_LOOCV_error import LOOCV\n",
    "from GPyS_prediction_script import GPyS_Script\n",
    "\n",
    "\n",
    "from scipy.optimize import minimize"
   ]
  },
  {
   "cell_type": "markdown",
   "source": [
    "#### Initializing data for example G_12 (the associated physics have been pre-computed - see example_G12.py)\n"
   ],
   "metadata": {
    "collapsed": false
   }
  },
  {
   "cell_type": "code",
   "execution_count": 2,
   "outputs": [],
   "source": [
    "# concatenated orthonormal basis\n",
    "X = [[0.809017, 0.1045284, -0.6691306,\n",
    "          -1.0, -0.6691306, 0.1045284,\n",
    "          0.809017], [0.5877852, 0.9945219,\n",
    "                      0.7431448, -0.0, -0.7431448,\n",
    "                      -0.9945219, -0.5877852]]\n",
    "# sample points\n",
    "sample = [[0.628319], [1.466077], [2.303835], [3.141593],\n",
    "              [3.979351], [4.817109], [5.654867]]\n",
    "# target points\n",
    "target = [[6.157522]]\n",
    "# default length scale (precomputed)  - to be changed to optimal length_scale upon hyperparamter training which will then be used for prediction\n",
    "length_scale = [10.0530966]\n"
   ],
   "metadata": {
    "collapsed": false
   }
  },
  {
   "cell_type": "markdown",
   "source": [
    "#### compute preprocessing quantities"
   ],
   "metadata": {
    "collapsed": false
   }
  },
  {
   "cell_type": "code",
   "execution_count": 3,
   "outputs": [
    {
     "name": "stdout",
     "output_type": "stream",
     "text": [
      "XtX:\n",
      " [[ 0.99999995  0.66913051 -0.10452852 -0.809017   -0.97814755 -0.5\n",
      "   0.30901706]\n",
      " [ 0.66913051  1.          0.66913063 -0.1045284  -0.80901693 -0.97814762\n",
      "  -0.5       ]\n",
      " [-0.10452852  0.66913063  0.99999995  0.6691306  -0.10452843 -0.80901693\n",
      "  -0.97814755]\n",
      " [-0.809017   -0.1045284   0.6691306   1.          0.6691306  -0.1045284\n",
      "  -0.809017  ]\n",
      " [-0.97814755 -0.80901693 -0.10452843  0.6691306   0.99999995  0.66913063\n",
      "  -0.10452852]\n",
      " [-0.5        -0.97814762 -0.80901693 -0.1045284   0.66913063  1.\n",
      "   0.66913051]\n",
      " [ 0.30901706 -0.5        -0.97814755 -0.809017   -0.10452852  0.66913051\n",
      "   0.99999995]]\n",
      "VtX:\n",
      " [[ 5.87785200e-01  9.94521900e-01  7.43144800e-01  5.39177249e-17\n",
      "  -7.43144800e-01 -9.94521900e-01 -5.87785200e-01]\n",
      " [-8.09017000e-01 -1.04528400e-01  6.69130600e-01  1.00000000e+00\n",
      "   6.69130600e-01 -1.04528400e-01 -8.09017000e-01]]\n"
     ]
    }
   ],
   "source": [
    "Preprocessor.setup(X)\n",
    "XtX = Preprocessor.get_XX_cross_product()\n",
    "VtX = Preprocessor.get_Vt_X()\n",
    "print(\"XtX:\\n\", XtX)\n",
    "print(\"VtX:\\n\", VtX)"
   ],
   "metadata": {
    "collapsed": false
   }
  },
  {
   "cell_type": "markdown",
   "source": [
    "#### hyperparameter training (get optimal length scale from LOOCV method)"
   ],
   "metadata": {
    "collapsed": false
   }
  },
  {
   "cell_type": "code",
   "execution_count": 4,
   "outputs": [
    {
     "name": "stdout",
     "output_type": "stream",
     "text": [
      "[objective: 6.025790385934932]; parameter: [5.0265483]\n",
      "[objective: 6.035124702297238]; parameter: [5.27787572]\n",
      "[objective: 6.025790385934932]; parameter: [5.0265483]\n",
      "[objective: 6.025790385934932]; parameter: [5.0265483]\n",
      "[5.0265483]\n"
     ]
    }
   ],
   "source": [
    "length = 10.0530966 # default length scale precomputed for the example_G12 (see set_length_scale function in the G12 class in example_G12.py)\n",
    "LOO = LOOCV(X, sample=sample, beta=[length])\n",
    "# compute bounds for objective function optimization (discretion of user)\n",
    "lenUpper = length * 2\n",
    "lenLower = length * 0.5\n",
    "# perform optimization by minimizing objective function\n",
    "ret = minimize(LOO.hSSDist, lenLower, method='Nelder-Mead', bounds=[(lenLower, lenUpper)], tol=1e-6)\n",
    "print(ret.x)"
   ],
   "metadata": {
    "collapsed": false
   }
  },
  {
   "cell_type": "markdown",
   "source": [
    "#### compute predictions by calling the GPyS script class methods (see GPyS script in git repository for more details)"
   ],
   "metadata": {
    "collapsed": false
   }
  },
  {
   "cell_type": "code",
   "execution_count": 5,
   "outputs": [
    {
     "name": "stdout",
     "output_type": "stream",
     "text": [
      "{\n",
      "    \"X\": [\n",
      "        [\n",
      "            0.809017,\n",
      "            0.1045284,\n",
      "            -0.6691306,\n",
      "            -1.0,\n",
      "            -0.6691306,\n",
      "            0.1045284,\n",
      "            0.809017\n",
      "        ],\n",
      "        [\n",
      "            0.5877852,\n",
      "            0.9945219,\n",
      "            0.7431448,\n",
      "            -0.0,\n",
      "            -0.7431448,\n",
      "            -0.9945219,\n",
      "            -0.5877852\n",
      "        ]\n",
      "    ],\n",
      "    \"i\": 0,\n",
      "    \"thetanew\": [\n",
      "        [\n",
      "            6.157522\n",
      "        ]\n",
      "    ],\n",
      "    \"thetanew[i]\": [\n",
      "        6.157522\n",
      "    ],\n",
      "    \"theta\": [\n",
      "        [\n",
      "            0.628319\n",
      "        ],\n",
      "        [\n",
      "            1.466077\n",
      "        ],\n",
      "        [\n",
      "            2.303835\n",
      "        ],\n",
      "        [\n",
      "            3.141593\n",
      "        ],\n",
      "        [\n",
      "            3.979351\n",
      "        ],\n",
      "        [\n",
      "            4.817109\n",
      "        ],\n",
      "        [\n",
      "            5.654867\n",
      "        ]\n",
      "    ],\n",
      "    \"lengthscale\": [\n",
      "        5.0265483\n",
      "    ]\n",
      "}\n",
      "\n",
      "target_point: [6.157522]\n",
      "\n",
      "Vcirc:\n",
      " [[-0.23472462 -0.97206191]\n",
      " [-0.97206191  0.23472462]] sigma2:\n",
      ", [1.71293204e-05 6.33997545e-03] eps2:\n",
      " 4.326149216637987e-09\n"
     ]
    }
   ],
   "source": [
    "length_scale = [5.0265483]\n",
    "\n",
    "V_circ, sigma2, eps2  = GPyS_Script.principal(\n",
    "                                        X,\n",
    "                                        sample,\n",
    "                                        target,\n",
    "                                        length_scale,\n",
    "                                        thetanew_index=0)\n",
    "print(\"Vcirc:\\n\", V_circ, \"sigma2:\\n,\", sigma2, \"eps2:\\n\", eps2)"
   ],
   "metadata": {
    "collapsed": false
   }
  },
  {
   "cell_type": "code",
   "execution_count": 5,
   "outputs": [],
   "source": [],
   "metadata": {
    "collapsed": false
   }
  }
 ],
 "metadata": {
  "kernelspec": {
   "display_name": "Python 3",
   "language": "python",
   "name": "python3"
  },
  "language_info": {
   "codemirror_mode": {
    "name": "ipython",
    "version": 2
   },
   "file_extension": ".py",
   "mimetype": "text/x-python",
   "name": "python",
   "nbconvert_exporter": "python",
   "pygments_lexer": "ipython2",
   "version": "2.7.6"
  }
 },
 "nbformat": 4,
 "nbformat_minor": 0
}
