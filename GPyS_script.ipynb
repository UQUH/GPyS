{
 "cells": [
  {
   "cell_type": "markdown",
   "source": [
    "### A single script utilizing the Preprocessor, LOOCV_error hyperparameter training, and Prediction methods of the GPyS\n",
    "#### Note that each of the LOOCV_error and prediction methods has their explicit script which have been directly called in this notebook\n",
    "\n",
    "#### Last modified: July 18th, 2023."
   ],
   "metadata": {
    "collapsed": false
   }
  },
  {
   "cell_type": "code",
   "execution_count": 11,
   "metadata": {
    "collapsed": true
   },
   "outputs": [],
   "source": [
    "from GPyS_preprocessor import Preprocessor\n",
    "from GPyS_LOOCV_error import LOOCV\n",
    "from GPyS_prediction import Prediction\n",
    "\n",
    "\n",
    "from scipy.optimize import minimize\n",
    "import numpy as np"
   ]
  },
  {
   "cell_type": "markdown",
   "source": [
    "#### Initializing data for example G_12 (the associated physics have been pre-computed - see example_G12.py)\n"
   ],
   "metadata": {
    "collapsed": false
   }
  },
  {
   "cell_type": "code",
   "execution_count": 12,
   "outputs": [],
   "source": [
    "# concatenated orthonormal basis\n",
    "X = [[0.809017, 0.1045284, -0.6691306,\n",
    "          -1.0, -0.6691306, 0.1045284,\n",
    "          0.809017], [0.5877852, 0.9945219,\n",
    "                      0.7431448, -0.0, -0.7431448,\n",
    "                      -0.9945219, -0.5877852]]\n",
    "# sample points\n",
    "sample = [[0.628319], [1.466077], [2.303835], [3.141593],\n",
    "              [3.979351], [4.817109], [5.654867]]\n",
    "# target points\n",
    "target = [[6.157522]]\n",
    "# default length scale using rule of thumb --> (3*(d**3))/l ---> (see section 5 of Zhang et. al (2022) GPS paper)\n",
    "# the default length scale will be changed to optimal length_scale upon hyperparamter training which will then be used for prediction\n",
    "length_scale = [(3*1**3)/7]"
   ],
   "metadata": {
    "collapsed": false
   }
  },
  {
   "cell_type": "markdown",
   "source": [
    "#### compute preprocessing quantities"
   ],
   "metadata": {
    "collapsed": false
   }
  },
  {
   "cell_type": "code",
   "execution_count": 13,
   "outputs": [
    {
     "name": "stdout",
     "output_type": "stream",
     "text": [
      "XtX:\n",
      " [[ 0.99999995  0.66913051 -0.10452852 -0.809017   -0.97814755 -0.5\n",
      "   0.30901706]\n",
      " [ 0.66913051  1.          0.66913063 -0.1045284  -0.80901693 -0.97814762\n",
      "  -0.5       ]\n",
      " [-0.10452852  0.66913063  0.99999995  0.6691306  -0.10452843 -0.80901693\n",
      "  -0.97814755]\n",
      " [-0.809017   -0.1045284   0.6691306   1.          0.6691306  -0.1045284\n",
      "  -0.809017  ]\n",
      " [-0.97814755 -0.80901693 -0.10452843  0.6691306   0.99999995  0.66913063\n",
      "  -0.10452852]\n",
      " [-0.5        -0.97814762 -0.80901693 -0.1045284   0.66913063  1.\n",
      "   0.66913051]\n",
      " [ 0.30901706 -0.5        -0.97814755 -0.809017   -0.10452852  0.66913051\n",
      "   0.99999995]]\n",
      "VtX:\n",
      " [[ 5.87785200e-01  9.94521900e-01  7.43144800e-01  5.39177249e-17\n",
      "  -7.43144800e-01 -9.94521900e-01 -5.87785200e-01]\n",
      " [-8.09017000e-01 -1.04528400e-01  6.69130600e-01  1.00000000e+00\n",
      "   6.69130600e-01 -1.04528400e-01 -8.09017000e-01]]\n"
     ]
    }
   ],
   "source": [
    "Preprocessor.setup(X)\n",
    "XtX = Preprocessor.get_XX_cross_product()\n",
    "VtX = Preprocessor.get_Vt_X()\n",
    "\n",
    "# kindly refrain from printing for large matrices\n",
    "print(\"XtX:\\n\", XtX)\n",
    "print(\"VtX:\\n\", VtX)"
   ],
   "metadata": {
    "collapsed": false
   }
  },
  {
   "cell_type": "markdown",
   "source": [
    "#### hyperparameter training (get optimal length scale from LOOCV method)"
   ],
   "metadata": {
    "collapsed": false
   }
  },
  {
   "cell_type": "code",
   "execution_count": 16,
   "outputs": [
    {
     "name": "stdout",
     "output_type": "stream",
     "text": [
      "[objective: 6.002675318467879]; parameter: [4.53058693]\n",
      "[objective: 6.0141027536408975]; parameter: [4.75711628]\n",
      "[objective: 6.002675318467879]; parameter: [4.53058693]\n",
      "[objective: 6.002675318467879]; parameter: [4.53058693]\n",
      "[4.53058693]\n"
     ]
    }
   ],
   "source": [
    "scale = 2 * np.pi # parameter range for example_G12.py\n",
    "length = length_scale[0] * scale\n",
    "LOO = LOOCV(X, sample=sample, beta=[length])\n",
    "# compute bounds for objective function optimization (discretion of user)\n",
    "lenUpper = length * 2\n",
    "lenLower = length * 0.5\n",
    "# perform optimization by minimizing objective function\n",
    "ret = minimize(LOO.hSSDist, lenLower, method='Nelder-Mead', bounds=[(lenLower, lenUpper)], tol=1e-6)\n",
    "print(ret.x)"
   ],
   "metadata": {
    "collapsed": false
   }
  },
  {
   "cell_type": "markdown",
   "source": [
    "#### compute predictions by calling the principal function from the GPyS_prediction_script.py"
   ],
   "metadata": {
    "collapsed": false
   }
  },
  {
   "cell_type": "code",
   "execution_count": 15,
   "outputs": [
    {
     "name": "stdout",
     "output_type": "stream",
     "text": [
      "Vcirc:\n",
      " [[-0.39798121 -0.91739357]\n",
      " [-0.91739357  0.39798121]] \n",
      "sigma2:\n",
      " [0.03936761 0.56906575] \n",
      "eps2:\n",
      " 0.007955504984723527\n"
     ]
    }
   ],
   "source": [
    "length_scale = [1.44213061]\n",
    "\n",
    "# kindly refrain from printing large matrices\n",
    "V_circ, sigma2, eps2  = Prediction.GPS_Prediction(\n",
    "                                    X,\n",
    "                                    sample,\n",
    "                                    target,\n",
    "                                    length_scale,\n",
    "                                    )\n",
    "print(\"Vcirc:\\n\", V_circ, \"\\nsigma2:\\n\", sigma2, \"\\neps2:\\n\", eps2)"
   ],
   "metadata": {
    "collapsed": false
   }
  },
  {
   "cell_type": "code",
   "execution_count": 15,
   "outputs": [],
   "source": [],
   "metadata": {
    "collapsed": false
   }
  }
 ],
 "metadata": {
  "kernelspec": {
   "display_name": "Python 3",
   "language": "python",
   "name": "python3"
  },
  "language_info": {
   "codemirror_mode": {
    "name": "ipython",
    "version": 2
   },
   "file_extension": ".py",
   "mimetype": "text/x-python",
   "name": "python",
   "nbconvert_exporter": "python",
   "pygments_lexer": "ipython2",
   "version": "2.7.6"
  }
 },
 "nbformat": 4,
 "nbformat_minor": 0
}
